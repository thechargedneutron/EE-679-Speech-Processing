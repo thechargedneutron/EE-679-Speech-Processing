{
 "cells": [
  {
   "cell_type": "code",
   "execution_count": 3,
   "metadata": {},
   "outputs": [
    {
     "name": "stderr",
     "output_type": "stream",
     "text": [
      "/usr/local/lib/python2.7/dist-packages/librosa/__init__.py:35: FutureWarning: You are using librosa with Python 2. Please note that librosa 0.7 will be the last version to support Python 2, after which it will require Python 3 or later.\n",
      "  FutureWarning)\n"
     ]
    }
   ],
   "source": [
    "import librosa\n",
    "import numpy as np\n",
    "import copy\n",
    "import os\n",
    "from tqdm import tqdm\n",
    "import pickle\n",
    "from hmmlearn import hmm\n",
    "import matplotlib.pyplot as plt"
   ]
  },
  {
   "cell_type": "code",
   "execution_count": null,
   "metadata": {},
   "outputs": [],
   "source": [
    "'''\n",
    "This is the code I used to do Word Detection on NOISY data after Endpoint Detection.\n",
    "add_noise.py was used to add noise and save to another folder \"train_noisy\"\n",
    "All the endpoint detection data is saved to a folder called as Commands_Dataset.\n",
    "After that noise is added and the noisy data is saved to a folder called train_noisy inside Commands_Dataset\n",
    "And from there the data is loaded. The dataset folder will not be included in the submission\n",
    "due to size constraints.\n",
    "\n",
    "The following code uses Gaussian HMM with number of states = 6\n",
    "'''\n"
   ]
  },
  {
   "cell_type": "code",
   "execution_count": 4,
   "metadata": {},
   "outputs": [],
   "source": [
    "def extract_mfcc_features(filepath):\n",
    "    '''\n",
    "    MFCC calculator using librosa package. Also finds the delta and the delta-delta frames as a feature vector.\n",
    "    '''\n",
    "    y, sr = librosa.load(filepath)\n",
    "    mfcc = librosa.feature.mfcc(y=y, sr=sr, n_mfcc=13)\n",
    "    mfcc2 = librosa.feature.delta(mfcc,order=1)\n",
    "    mfcc3 = librosa.feature.delta(mfcc,order=2)\n",
    "    final_mfcc = np.concatenate((mfcc, mfcc2, mfcc3), axis=0)\n",
    "    return final_mfcc.T"
   ]
  },
  {
   "cell_type": "code",
   "execution_count": 5,
   "metadata": {},
   "outputs": [],
   "source": [
    "def buildGoogleDataSet(dir):\n",
    "    '''\n",
    "    Function to load data while continuously calculating the MFCC\n",
    "    '''\n",
    "    dataset = {}\n",
    "    for f in os.listdir(dir):#os.listdir(dir)\n",
    "        for w in os.listdir(dir + f):\n",
    "            feature = extract_mfcc_features(dir+ f + '/' + w)\n",
    "            label = f\n",
    "            if label not in dataset.keys():\n",
    "                dataset[label] = []\n",
    "                dataset[label].append(feature)\n",
    "            else:\n",
    "                exist_feat = dataset[label]\n",
    "                exist_feat.append(feature)\n",
    "                dataset[label] = exist_feat\n",
    "    return dataset"
   ]
  },
  {
   "cell_type": "code",
   "execution_count": 6,
   "metadata": {},
   "outputs": [],
   "source": [
    "'''\n",
    "Functions to pickle data intermediately\n",
    "'''\n",
    "def save_obj(obj, name ):\n",
    "    with open('obj/'+ name + '.pkl', 'w+') as f:\n",
    "        pickle.dump(obj, f, pickle.HIGHEST_PROTOCOL)\n",
    "\n",
    "def load_obj(name ):\n",
    "    with open('obj/' + name + '.pkl', 'rb') as f:\n",
    "        return pickle.load(f)\n",
    "    "
   ]
  },
  {
   "cell_type": "code",
   "execution_count": 7,
   "metadata": {},
   "outputs": [],
   "source": [
    "def train_GMMHMM(dataset):\n",
    "    '''\n",
    "    Function to train the data.\n",
    "    num_states used is 6.\n",
    "    '''\n",
    "    GMMHMM_Models = {}\n",
    "    states_num = 6\n",
    "    for label in dataset.keys():\n",
    "        model = hmm.GaussianHMM(n_components=states_num, \\\n",
    "                           covariance_type='full', n_iter=100)\n",
    "        trainData = dataset[label]\n",
    "        length = np.zeros([len(trainData), ], dtype=np.int)\n",
    "        for m in range(len(trainData)):\n",
    "            length[m] = trainData[m].shape[0]\n",
    "        trainData = np.vstack(trainData)\n",
    "        model.fit(trainData, lengths=length)  # get optimal parameters\n",
    "        GMMHMM_Models[label] = model\n",
    "    return GMMHMM_Models"
   ]
  },
  {
   "cell_type": "code",
   "execution_count": null,
   "metadata": {},
   "outputs": [],
   "source": [
    "trainDir = \"Commands_Dataset/train_noisy/\"\n",
    "trainDataSet = buildGoogleDataSet(trainDir)\n",
    "print(\"Finish prepare the training data\")\n"
   ]
  },
  {
   "cell_type": "code",
   "execution_count": null,
   "metadata": {},
   "outputs": [],
   "source": [
    "hmmModels = train_GMMHMM(trainDataSet)\n",
    "print(\"Finish training of the GMM_HMM models for 10 command words\")"
   ]
  },
  {
   "cell_type": "code",
   "execution_count": null,
   "metadata": {},
   "outputs": [],
   "source": [
    "'''\n",
    "Used for saving data during long training session of around 5-6 hours\n",
    "'''\n",
    "#save_obj(trainDataSet, 'trainDataSet' )\n",
    "#save_obj(hmmModels, 'hmmModels')"
   ]
  },
  {
   "cell_type": "code",
   "execution_count": 8,
   "metadata": {},
   "outputs": [],
   "source": [
    "testDir = \"Commands_Dataset/test_noisy/\"\n",
    "testDataSet = buildGoogleDataSet(testDir)\n",
    "#hmmModels = load_obj('hmmModels')"
   ]
  },
  {
   "cell_type": "code",
   "execution_count": 9,
   "metadata": {},
   "outputs": [],
   "source": [
    "total_count = 0\n",
    "correct_count = 0\n",
    "confusion_matrix = np.zeros((10, 10))\n",
    "answers = list(testDataSet.keys())\n",
    "for idx,label_test in enumerate(testDataSet.keys()):\n",
    "    for num in range(len(testDataSet[label_test])):\n",
    "        sample = testDataSet[label_test][num]\n",
    "        scoreList = {}\n",
    "        for model_label in hmmModels.keys():\n",
    "            model = hmmModels[model_label]\n",
    "            score = model.score(sample)\n",
    "            scoreList[model_label] = score\n",
    "        predict = max(scoreList, key=scoreList.get)\n",
    "        confusion_matrix[idx][answers.index(predict)] = confusion_matrix[idx][answers.index(predict)] + 1\n",
    "        if predict == label_test:\n",
    "            correct_count = correct_count+1\n",
    "        total_count = total_count + 1"
   ]
  },
  {
   "cell_type": "code",
   "execution_count": 12,
   "metadata": {},
   "outputs": [
    {
     "name": "stdout",
     "output_type": "stream",
     "text": [
      "Accuracy: 0.746372184932\n"
     ]
    }
   ],
   "source": [
    "print(\"Accuracy: {}\".format((correct_count*1.0)/total_count))"
   ]
  },
  {
   "cell_type": "code",
   "execution_count": 13,
   "metadata": {},
   "outputs": [
    {
     "name": "stdout",
     "output_type": "stream",
     "text": [
      "['on', 'right', 'off', 'no', 'stop', 'up', 'down', 'go', 'yes', 'left']\n"
     ]
    },
    {
     "data": {
      "image/png": "[encoded data removed]",
      "text/plain": [
       "<Figure size 288x288 with 1 Axes>"
      ]
     },
     "metadata": {
      "needs_background": "light"
     },
     "output_type": "display_data"
    }
   ],
   "source": [
    "confusion_matrix = confusion_matrix/total_count\n",
    "plt.matshow(confusion_matrix)\n",
    "print(answers)"
   ]
  },
  {
   "cell_type": "code",
   "execution_count": null,
   "metadata": {},
   "outputs": [],
   "source": [
    "'''\n",
    "INFERENCE\n",
    "In this confusion matrix it is very clear that \"off\" is getting confused. This is very much evident from the fact\n",
    "that in saying 'f' there is lot of noise that goes out and a lot of mislabelled data has been thought of as \n",
    "\"off\" by the model. The decrease in the accuracy is also intuitive since we have added noise.\n",
    "\n",
    "'''"
   ]
  },
  {
   "cell_type": "code",
   "execution_count": null,
   "metadata": {},
   "outputs": [],
   "source": []
  }
 ],
 "metadata": {
  "kernelspec": {
   "display_name": "Python 2",
   "language": "python",
   "name": "python2"
  },
  "language_info": {
   "codemirror_mode": {
    "name": "ipython",
    "version": 2
   },
   "file_extension": ".py",
   "mimetype": "text/x-python",
   "name": "python",
   "nbconvert_exporter": "python",
   "pygments_lexer": "ipython2",
   "version": "2.7.15+"
  }
 },
 "nbformat": 4,
 "nbformat_minor": 2
}
