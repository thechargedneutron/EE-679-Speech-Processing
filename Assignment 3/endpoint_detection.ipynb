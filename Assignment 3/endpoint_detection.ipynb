{
 "cells": [
  {
   "cell_type": "code",
   "execution_count": 1,
   "metadata": {},
   "outputs": [
    {
     "name": "stderr",
     "output_type": "stream",
     "text": [
      "/usr/local/lib/python2.7/dist-packages/librosa/__init__.py:35: FutureWarning: You are using librosa with Python 2. Please note that librosa 0.7 will be the last version to support Python 2, after which it will require Python 3 or later.\n",
      "  FutureWarning)\n"
     ]
    }
   ],
   "source": [
    "import sys\n",
    "import librosa\n",
    "from math import *"
   ]
  },
  {
   "cell_type": "code",
   "execution_count": null,
   "metadata": {},
   "outputs": [],
   "source": [
    "'''\n",
    "\n",
    "In this file I have implemented Endpoint Detection using Energy of the signal.\n",
    "Steps for endpoint detection\n",
    "1. Cut the data into many segments.\n",
    "2. Calculate energy for each of the segments and check is it is less than a threshold, the threshold which worked\n",
    "    for most of the data was 0.001. Hamming window was used to obtain the energy of the signal in the window.\n",
    "3. Find the speech start and the endpoints\n",
    "4. Slice the audio file in that duration and obtain a cut version of the audio\n",
    "\n",
    "In this, I used a window of size 25ms and half window size of 12.5ms\n",
    "\n",
    "\n",
    "NOTE: This cut was applied to all the data points in the data and stored in a new folder and used thereafter for\n",
    "      for the assignment. However, for the sake of demonstation, I have attached a sample wav file and obtained\n",
    "      an endpointed version of the same.\n",
    "\n",
    "'''"
   ]
  },
  {
   "cell_type": "code",
   "execution_count": 6,
   "metadata": {},
   "outputs": [],
   "source": [
    "def readfile(fname):\n",
    "    '''\n",
    "    Function to read file from librosa package\n",
    "    '''\n",
    "    return librosa.load(fname, sr=None)\n",
    "\n",
    "\n",
    "def cut_file(audiofile):\n",
    "    '''\n",
    "    Cutting the file into several chunks of the data\n",
    "    '''\n",
    "    global sr\n",
    "    res = []\n",
    "    for i in range(0, len(audiofile)-1, sr/80):\n",
    "        res.append(audiofile[i:min(i+sr/40, len(audiofile)-1)])\n",
    "    return res"
   ]
  },
  {
   "cell_type": "code",
   "execution_count": 7,
   "metadata": {},
   "outputs": [],
   "source": [
    "# hamming window\n",
    "def hamming(N, m):\n",
    "    '''\n",
    "    Hamming window formula\n",
    "    '''\n",
    "    return (0.54-0.46*cos(2*3.1415926*m/(N-1)))\n",
    "\n",
    "\n",
    "def get_energy(window):\n",
    "    '''\n",
    "    Energy Calculation\n",
    "    '''\n",
    "    N = len(window)\n",
    "    res = 0\n",
    "    for m in range(0, N):\n",
    "        res += window[m]*hamming(N, N-m)*window[m]*hamming(N, N-m)\n",
    "    return res"
   ]
  },
  {
   "cell_type": "code",
   "execution_count": 8,
   "metadata": {},
   "outputs": [],
   "source": [
    "filename = \"sample\"\n",
    "audiofile, sr = readfile(filename+\".wav\")\n",
    "windows = cut_file(audiofile)\n",
    "sil_before = True\n",
    "sil_start = 0\n",
    "speech_start = 0"
   ]
  },
  {
   "cell_type": "code",
   "execution_count": 10,
   "metadata": {},
   "outputs": [
    {
     "name": "stdout",
     "output_type": "stream",
     "text": [
      "Number of data points in original sample: 15019\n",
      "Number of data points in endpointed sample: 6400\n"
     ]
    }
   ],
   "source": [
    "start_index = 0\n",
    "end_index = 0\n",
    "\n",
    "for i in range(len(windows)):\n",
    "    if(get_energy(windows[i]) > 0.001):\n",
    "        if(sil_before):\n",
    "            sil_before = False\n",
    "            speech_start = i\n",
    "            start_index = round((i*12.5)*sr*1e-3)\n",
    "\n",
    "    else:\n",
    "        if(not sil_before):\n",
    "            sil_before = True\n",
    "            sil_start = i\n",
    "            end_index = round((i*12.5)*sr*1e-3)\n",
    "\n",
    "cut_data = audiofile[int(start_index):int(end_index)]\n",
    "librosa.output.write_wav('sample_cut_data.wav', cut_data, sr, norm=False)\n",
    "\n",
    "print(\"Number of data points in original sample: {}\".format(len(audiofile)))\n",
    "print(\"Number of data points in endpointed sample: {}\".format(len(cut_data)))"
   ]
  },
  {
   "cell_type": "code",
   "execution_count": null,
   "metadata": {},
   "outputs": [],
   "source": [
    "'''\n",
    "INFERENCE\n",
    "We see that endpoint detection is really helpful in removing the extra part of the sound.\n",
    "For example, this sample data wav file had 15019 samples and after endpoint detection the\n",
    "number of sample points reduces to 6400 samples only.\n",
    "'''"
   ]
  }
 ],
 "metadata": {
  "kernelspec": {
   "display_name": "Python 2",
   "language": "python",
   "name": "python2"
  },
  "language_info": {
   "codemirror_mode": {
    "name": "ipython",
    "version": 2
   },
   "file_extension": ".py",
   "mimetype": "text/x-python",
   "name": "python",
   "nbconvert_exporter": "python",
   "pygments_lexer": "ipython2",
   "version": "2.7.15+"
  }
 },
 "nbformat": 4,
 "nbformat_minor": 2
}
